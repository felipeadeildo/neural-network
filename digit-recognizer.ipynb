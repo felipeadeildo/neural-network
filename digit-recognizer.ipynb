{
 "cells": [
  {
   "cell_type": "code",
   "execution_count": 1,
   "metadata": {},
   "outputs": [],
   "source": [
    "import zipfile\n",
    "from pathlib import Path\n",
    "import pandas as pd\n",
    "import numpy as np\n",
    "\n",
    "data_path = Path(\"data\")\n",
    "with zipfile.ZipFile(data_path / \"digit-recognizer.zip\", \"r\") as zip_ref:\n",
    "    zip_ref.extractall(\"data\")"
   ]
  },
  {
   "cell_type": "code",
   "execution_count": 2,
   "metadata": {},
   "outputs": [],
   "source": [
    "train = pd.read_csv(data_path / \"train.csv\")\n",
    "X_train = (train.iloc[:, 1:] / 255).values.T\n",
    "Y_train = train.iloc[:, 0].values\n",
    "\n",
    "# Função para codificação one-hot manual\n",
    "def one_hot_encode(labels, num_classes):\n",
    "    one_hot = np.zeros((num_classes, labels.size))\n",
    "    one_hot[labels, np.arange(labels.size)] = 1\n",
    "    return one_hot\n",
    "\n",
    "# Codificação one-hot dos rótulos\n",
    "Y_train = one_hot_encode(Y_train, 10)"
   ]
  },
  {
   "cell_type": "code",
   "execution_count": 16,
   "metadata": {},
   "outputs": [
    {
     "name": "stdout",
     "output_type": "stream",
     "text": [
      "Cost after epoch 0: 0.09002326987264923, Accuracy: 7.21%\n",
      "Cost after epoch 1: 0.08910997198811643, Accuracy: 28.28%\n",
      "Cost after epoch 2: 0.08731694948499015, Accuracy: 38.55%\n",
      "Cost after epoch 3: 0.08175366805314703, Accuracy: 50.89%\n",
      "Cost after epoch 4: 0.06922862667969017, Accuracy: 63.38%\n"
     ]
    }
   ],
   "source": [
    "from neural_network import DenseLayer\n",
    "from neural_network import NeuralNetwork\n",
    "\n",
    "\n",
    "layers = [\n",
    "    DenseLayer(input_size=784, output_size=256, activation=\"relu\"),\n",
    "    DenseLayer(input_size=256, output_size=128, activation=\"relu\"),\n",
    "    DenseLayer(input_size=128, output_size=64, activation=\"relu\"),\n",
    "    DenseLayer(input_size=64, output_size=10, activation=\"softmax\"),\n",
    "]\n",
    "\n",
    "nn = NeuralNetwork(layers=layers, learning_rate=0.13)\n",
    "nn.train(X_train, Y_train, epochs=5, verbose_freq=1, cost_function=\"mean_squared_error\") # type: ignore"
   ]
  },
  {
   "cell_type": "code",
   "execution_count": null,
   "metadata": {},
   "outputs": [],
   "source": []
  }
 ],
 "metadata": {
  "kernelspec": {
   "display_name": "neural-network-H6dbbr34-py3.12",
   "language": "python",
   "name": "python3"
  },
  "language_info": {
   "codemirror_mode": {
    "name": "ipython",
    "version": 3
   },
   "file_extension": ".py",
   "mimetype": "text/x-python",
   "name": "python",
   "nbconvert_exporter": "python",
   "pygments_lexer": "ipython3",
   "version": "3.12.3"
  }
 },
 "nbformat": 4,
 "nbformat_minor": 2
}
